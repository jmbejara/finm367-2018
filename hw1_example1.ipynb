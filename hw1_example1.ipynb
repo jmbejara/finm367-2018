{
 "cells": [
  {
   "cell_type": "markdown",
   "metadata": {
    "colab_type": "text",
    "id": "zcdUAUmdIorK"
   },
   "source": [
    "In this notebook, I'll demonstrate how to load data from an Excel spreadsheet and how to compute statistical moments on data that has missing values.\n",
    "\n",
    "I will be using the Python library `pandas` to do all of this computation. `pandas` is the most commonly used Python library for working with data."
   ]
  },
  {
   "cell_type": "code",
   "execution_count": null,
   "metadata": {
    "colab": {},
    "colab_type": "code",
    "id": "b9O_TSWlJET-"
   },
   "outputs": [],
   "source": [
    "import pandas as pd"
   ]
  },
  {
   "cell_type": "markdown",
   "metadata": {
    "colab_type": "text",
    "id": "im8N1d5WMfdl"
   },
   "source": [
    "Google Colab doesn't have a required package for working with Excel files installed by default. Every time we open up a notebook, the Colab's computation environment is reset to the default. Therefore, every time we restart the notebook, we'll need to install it. You can do it with the command below.\n",
    "\n",
    "If you install Python on your local machine, you won't need to do this."
   ]
  },
  {
   "cell_type": "code",
   "execution_count": null,
   "metadata": {
    "colab": {
     "base_uri": "https://localhost:8080/",
     "height": 34
    },
    "colab_type": "code",
    "id": "Fe7RFfwMK69f",
    "outputId": "17a82d56-994f-489a-aac5-5e1025b6e59f"
   },
   "outputs": [],
   "source": [
    "!pip install xlrd"
   ]
  },
  {
   "cell_type": "markdown",
   "metadata": {
    "colab_type": "text",
    "id": "otXT2DAOJlGn"
   },
   "source": [
    "Since I'm using Google Colab (in the cloud), I've made the HW data available via a Google Drive link so that it's easier to access. "
   ]
  },
  {
   "cell_type": "code",
   "execution_count": null,
   "metadata": {
    "colab": {},
    "colab_type": "code",
    "id": "gFYxE7w0JXZQ"
   },
   "outputs": [],
   "source": [
    "# Either of these links should work. \n",
    "\n",
    "# data_url = \"https://drive.google.com/uc?id=1mWYUscdHRImLRukf8tzOvn8XupAjcJCE&export=download\"\n",
    "data_url = \"https://github.com/jmbejara/finm367-2018/blob/master/data/assetclass_data_monthly.xlsx?raw=true\""
   ]
  },
  {
   "cell_type": "code",
   "execution_count": null,
   "metadata": {
    "colab": {},
    "colab_type": "code",
    "id": "CaTzwsYDJgf8"
   },
   "outputs": [],
   "source": [
    "# Use the question mark to easily access the documentation for\n",
    "# any functions or methods (as it appears in the function's docstring)\n",
    "pd.read_excel?"
   ]
  },
  {
   "cell_type": "code",
   "execution_count": null,
   "metadata": {
    "colab": {},
    "colab_type": "code",
    "id": "df7wLv4-KZJo"
   },
   "outputs": [],
   "source": [
    "# Use two question marks to see the source code\n",
    "pd.read_excel??"
   ]
  },
  {
   "cell_type": "code",
   "execution_count": null,
   "metadata": {
    "colab": {},
    "colab_type": "code",
    "id": "JF9eqZVwJeF7"
   },
   "outputs": [],
   "source": [
    "# Use sheet_name=0 to take the first sheet.\n",
    "df = pd.read_excel(data_url, sheet_name=0)\n",
    "# Or specify the sheet by name. These two commands give the same result.\n",
    "df = pd.read_excel(data_url, sheet_name='data')"
   ]
  },
  {
   "cell_type": "code",
   "execution_count": null,
   "metadata": {
    "colab": {
     "base_uri": "https://localhost:8080/",
     "height": 204
    },
    "colab_type": "code",
    "id": "xOWTW-vOJiF3",
    "outputId": "8bd24e94-4205-4e18-c464-66e19aadf7a8"
   },
   "outputs": [],
   "source": [
    "# Preview the first obvservations\n",
    "df.head()"
   ]
  },
  {
   "cell_type": "code",
   "execution_count": null,
   "metadata": {
    "colab": {
     "base_uri": "https://localhost:8080/",
     "height": 204
    },
    "colab_type": "code",
    "id": "mWmMUE-MPOwT",
    "outputId": "1382bda1-ae47-4336-903e-f6f598a8e237"
   },
   "outputs": [],
   "source": [
    "# Preview the last observations\n",
    "df.tail()"
   ]
  },
  {
   "cell_type": "code",
   "execution_count": null,
   "metadata": {
    "colab": {
     "base_uri": "https://localhost:8080/",
     "height": 255
    },
    "colab_type": "code",
    "id": "PKPE_hZNTJRk",
    "outputId": "b8d2ef63-af38-4731-f95b-8b1a88b96877"
   },
   "outputs": [],
   "source": [
    "# We can also check to make sure the data types of the columns were imported correctly\n",
    "df.dtypes"
   ]
  },
  {
   "cell_type": "code",
   "execution_count": null,
   "metadata": {
    "colab": {
     "base_uri": "https://localhost:8080/",
     "height": 297
    },
    "colab_type": "code",
    "id": "FRlB-iytMPz3",
    "outputId": "cc4a63e6-3a7b-4647-cd8a-ff648279fde7"
   },
   "outputs": [],
   "source": [
    "# Get an summary of the data\n",
    "df.describe()"
   ]
  },
  {
   "cell_type": "markdown",
   "metadata": {
    "colab_type": "text",
    "id": "ggIeGTyDPXp0"
   },
   "source": [
    "Now suppose we want to compute the mean and standard deviation of each column. For ease, we're just going to compute the arithmetic mean of each column."
   ]
  },
  {
   "cell_type": "code",
   "execution_count": null,
   "metadata": {
    "colab": {
     "base_uri": "https://localhost:8080/",
     "height": 238
    },
    "colab_type": "code",
    "id": "XjSVzRlkOhNa",
    "outputId": "ced38c7a-53ed-4236-ffa9-ca286732e6eb"
   },
   "outputs": [],
   "source": [
    "df.mean()"
   ]
  },
  {
   "cell_type": "code",
   "execution_count": null,
   "metadata": {
    "colab": {
     "base_uri": "https://localhost:8080/",
     "height": 238
    },
    "colab_type": "code",
    "id": "rbQELP9uOsLG",
    "outputId": "ad636866-3196-438c-a277-072716d221f8"
   },
   "outputs": [],
   "source": [
    "df.std()"
   ]
  },
  {
   "cell_type": "markdown",
   "metadata": {
    "colab_type": "text",
    "id": "g8lRYK5RRxXT"
   },
   "source": [
    "Notice that we were missing data, yet Pandas handled the issue for us. The default behavior in Pandas is to \"ignore\" the missing data.  Take a look at the documentation for the method `DataFrame.mean`. It has a keyword parameter called `skipna`. By default, this will exlude NA/null values when computing the result. The `DataFrame.std` method does the same thing."
   ]
  },
  {
   "cell_type": "code",
   "execution_count": null,
   "metadata": {
    "colab": {},
    "colab_type": "code",
    "id": "4yOBuN5YPEol"
   },
   "outputs": [],
   "source": [
    "df.mean?"
   ]
  },
  {
   "cell_type": "markdown",
   "metadata": {
    "colab_type": "text",
    "id": "gQaPAkCwSZVF"
   },
   "source": [
    "Suppose instead that we don't want to skip the NA values. This is the result:"
   ]
  },
  {
   "cell_type": "code",
   "execution_count": null,
   "metadata": {
    "colab": {
     "base_uri": "https://localhost:8080/",
     "height": 238
    },
    "colab_type": "code",
    "id": "T30CtsVUPGtA",
    "outputId": "a065c1a0-14a1-4595-ad17-1542f7215491"
   },
   "outputs": [],
   "source": [
    "df.mean(skipna=False)"
   ]
  },
  {
   "cell_type": "markdown",
   "metadata": {
    "colab_type": "text",
    "id": "uFauVmc6gt44"
   },
   "source": [
    "Note that the covariance and correlation methods also drop the missing values."
   ]
  },
  {
   "cell_type": "code",
   "execution_count": null,
   "metadata": {
    "colab": {
     "base_uri": "https://localhost:8080/",
     "height": 421
    },
    "colab_type": "code",
    "id": "gCuL7CpIg2_7",
    "outputId": "b8e0a60b-de0b-4060-b2c5-81a34939e32d"
   },
   "outputs": [],
   "source": [
    "df.cov()"
   ]
  },
  {
   "cell_type": "code",
   "execution_count": null,
   "metadata": {
    "colab": {
     "base_uri": "https://localhost:8080/",
     "height": 421
    },
    "colab_type": "code",
    "id": "bojni34Bgioc",
    "outputId": "9d23c178-2719-48d2-b3c0-d74cd8c0d365"
   },
   "outputs": [],
   "source": [
    "df.corr()"
   ]
  },
  {
   "cell_type": "markdown",
   "metadata": {
    "colab_type": "text",
    "id": "GktJdSVkSYEG"
   },
   "source": [
    "Alternatively, we could drop the missing data from the get-go and create a balanced panel. This may be useful in some scenarios. "
   ]
  },
  {
   "cell_type": "code",
   "execution_count": null,
   "metadata": {
    "colab": {
     "base_uri": "https://localhost:8080/",
     "height": 204
    },
    "colab_type": "code",
    "id": "gBUI1mT2S5s8",
    "outputId": "72c6f4db-7c32-42bb-8de8-7f6753efb6b6"
   },
   "outputs": [],
   "source": [
    "df_balanced = df.dropna()\n",
    "df_balanced.head()"
   ]
  }
 ],
 "metadata": {
  "colab": {
   "collapsed_sections": [],
   "name": "finm367_hw1_example1.ipynb",
   "provenance": [],
   "version": "0.3.2"
  },
  "kernelspec": {
   "display_name": "Python 3",
   "language": "python",
   "name": "python3"
  },
  "language_info": {
   "codemirror_mode": {
    "name": "ipython",
    "version": 3
   },
   "file_extension": ".py",
   "mimetype": "text/x-python",
   "name": "python",
   "nbconvert_exporter": "python",
   "pygments_lexer": "ipython3",
   "version": "3.6.5"
  }
 },
 "nbformat": 4,
 "nbformat_minor": 1
}
